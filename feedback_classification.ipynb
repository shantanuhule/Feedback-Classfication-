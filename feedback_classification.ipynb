{
 "cells": [
  {
   "cell_type": "code",
   "execution_count": 66,
   "metadata": {
    "id": "Wi9IvorWElYo"
   },
   "outputs": [],
   "source": [
    "#import packages \n",
    "import pandas as pd\n",
    "import numpy as np\n",
    "import re\n",
    "import string\n",
    "import nltk \n",
    "from nltk.corpus import stopwords\n",
    "from nltk.stem import PorterStemmer\n",
    "from nltk.tokenize import word_tokenize "
   ]
  },
  {
   "cell_type": "code",
   "execution_count": 67,
   "metadata": {
    "colab": {
     "base_uri": "https://localhost:8080/"
    },
    "id": "H14vEGPQE00x",
    "outputId": "c322225e-621d-4055-ab95-1428a3125b84"
   },
   "outputs": [
    {
     "name": "stdout",
     "output_type": "stream",
     "text": [
      "[nltk_data] Downloading package stopwords to /root/nltk_data...\n",
      "[nltk_data]   Package stopwords is already up-to-date!\n"
     ]
    },
    {
     "data": {
      "text/plain": [
       "True"
      ]
     },
     "execution_count": 67,
     "metadata": {},
     "output_type": "execute_result"
    }
   ],
   "source": [
    "#downloading stopwords\n",
    "import nltk\n",
    "nltk.download('stopwords')"
   ]
  },
  {
   "cell_type": "code",
   "execution_count": 68,
   "metadata": {
    "colab": {
     "base_uri": "https://localhost:8080/"
    },
    "id": "4vefAZKjE4L3",
    "outputId": "a700560f-c2ff-499b-f1b4-e5547ccb2ecf"
   },
   "outputs": [
    {
     "name": "stdout",
     "output_type": "stream",
     "text": [
      "[nltk_data] Downloading package punkt to /root/nltk_data...\n",
      "[nltk_data]   Package punkt is already up-to-date!\n"
     ]
    },
    {
     "data": {
      "text/plain": [
       "True"
      ]
     },
     "execution_count": 68,
     "metadata": {},
     "output_type": "execute_result"
    }
   ],
   "source": [
    "#downloading punkt\n",
    "import nltk\n",
    "nltk.download('punkt')"
   ]
  },
  {
   "cell_type": "markdown",
   "metadata": {
    "id": "FT7tACv5MarT"
   },
   "source": [
    "**Process sentences function**"
   ]
  },
  {
   "cell_type": "code",
   "execution_count": 69,
   "metadata": {
    "id": "eiVPTxpjE7Rm"
   },
   "outputs": [],
   "source": [
    "#process \n",
    "def process_sentences(sentence):\n",
    "    stemmer=PorterStemmer()\n",
    "    stopwords_english = stopwords.words('english') #stopwords english\n",
    "    sentence = re.sub(r'\\$\\w*', '', sentence)\n",
    "    sentence = re.sub(r'^RT[\\s]+', '', sentence)\n",
    "    sentence = re.sub(r'https?:\\/\\/.*[\\r\\n]*', '', sentence)\n",
    "    sentence = re.sub(r'#', '', sentence)\n",
    "    \n",
    "\n",
    "    sentence=sentence.lower()\n",
    "    sentence_tokens=word_tokenize(sentence)\n",
    "    sentences_clean=[]\n",
    "    \n",
    "    #removing stopwords, removing punctuation and then stemming the word\n",
    "    for word in sentence_tokens:\n",
    "        if (word not in stopwords_english and word not in string.punctuation):   \n",
    "            stem_word=stemmer.stem(word)\n",
    "            sentences_clean.append(stem_word)\n",
    "          \n",
    "    return sentences_clean"
   ]
  },
  {
   "cell_type": "code",
   "execution_count": 70,
   "metadata": {
    "colab": {
     "base_uri": "https://localhost:8080/",
     "height": 275
    },
    "id": "BieU3SfkFBwv",
    "outputId": "a38d1d26-2fe4-4c74-8bb9-a2f299dda7ce"
   },
   "outputs": [
    {
     "data": {
      "text/html": [
       "<div>\n",
       "<style scoped>\n",
       "    .dataframe tbody tr th:only-of-type {\n",
       "        vertical-align: middle;\n",
       "    }\n",
       "\n",
       "    .dataframe tbody tr th {\n",
       "        vertical-align: top;\n",
       "    }\n",
       "\n",
       "    .dataframe thead th {\n",
       "        text-align: right;\n",
       "    }\n",
       "</style>\n",
       "<table border=\"1\" class=\"dataframe\">\n",
       "  <thead>\n",
       "    <tr style=\"text-align: right;\">\n",
       "      <th></th>\n",
       "      <th>Short description</th>\n",
       "      <th>Description</th>\n",
       "      <th>Caller</th>\n",
       "      <th>Assignment group</th>\n",
       "    </tr>\n",
       "  </thead>\n",
       "  <tbody>\n",
       "    <tr>\n",
       "      <th>0</th>\n",
       "      <td>login issue</td>\n",
       "      <td>-verified user details.(employee# &amp; manager na...</td>\n",
       "      <td>spxjnwir pjlcoqds</td>\n",
       "      <td>GRP_0</td>\n",
       "    </tr>\n",
       "    <tr>\n",
       "      <th>1</th>\n",
       "      <td>outlook</td>\n",
       "      <td>\\r\\n\\r\\nreceived from: hmjdrvpb.komuaywn@gmail...</td>\n",
       "      <td>hmjdrvpb komuaywn</td>\n",
       "      <td>GRP_0</td>\n",
       "    </tr>\n",
       "    <tr>\n",
       "      <th>2</th>\n",
       "      <td>cant log in to vpn</td>\n",
       "      <td>\\r\\n\\r\\nreceived from: eylqgodm.ybqkwiam@gmail...</td>\n",
       "      <td>eylqgodm ybqkwiam</td>\n",
       "      <td>GRP_0</td>\n",
       "    </tr>\n",
       "    <tr>\n",
       "      <th>3</th>\n",
       "      <td>unable to access hr_tool page</td>\n",
       "      <td>unable to access hr_tool page</td>\n",
       "      <td>xbkucsvz gcpydteq</td>\n",
       "      <td>GRP_0</td>\n",
       "    </tr>\n",
       "    <tr>\n",
       "      <th>4</th>\n",
       "      <td>skype error</td>\n",
       "      <td>skype error</td>\n",
       "      <td>owlgqjme qhcozdfx</td>\n",
       "      <td>GRP_0</td>\n",
       "    </tr>\n",
       "  </tbody>\n",
       "</table>\n",
       "</div>"
      ],
      "text/plain": [
       "               Short description  ... Assignment group\n",
       "0                    login issue  ...            GRP_0\n",
       "1                        outlook  ...            GRP_0\n",
       "2             cant log in to vpn  ...            GRP_0\n",
       "3  unable to access hr_tool page  ...            GRP_0\n",
       "4                   skype error   ...            GRP_0\n",
       "\n",
       "[5 rows x 4 columns]"
      ]
     },
     "execution_count": 70,
     "metadata": {},
     "output_type": "execute_result"
    }
   ],
   "source": [
    "#loading the data\n",
    "data=pd.read_csv('input_data_2.csv')\n",
    "data.head(5)"
   ]
  },
  {
   "cell_type": "code",
   "execution_count": 71,
   "metadata": {
    "id": "Gsqnkyt1FUKf"
   },
   "outputs": [],
   "source": [
    "#converting type form object to string\n",
    "data['Short description']=data['Short description'].astype(str)"
   ]
  },
  {
   "cell_type": "markdown",
   "metadata": {
    "id": "DfMsa-6EMW79"
   },
   "source": [
    "**creating vocablory**"
   ]
  },
  {
   "cell_type": "code",
   "execution_count": 72,
   "metadata": {
    "id": "ToUyiE7cFVDG"
   },
   "outputs": [],
   "source": [
    "vocab_SD=[] #Short Description vocablory\n",
    "for sentence in data['Short description']:\n",
    "  for word in process_sentences(sentence):\n",
    "    if word not in vocab_SD:\n",
    "      vocab_SD.append(word)"
   ]
  },
  {
   "cell_type": "code",
   "execution_count": 73,
   "metadata": {
    "colab": {
     "base_uri": "https://localhost:8080/"
    },
    "id": "IE4C4XSsFmA-",
    "outputId": "14d7046d-1645-4de3-81a2-b9c3c47966ff"
   },
   "outputs": [
    {
     "name": "stdout",
     "output_type": "stream",
     "text": [
      "vocab for Short Description length:  8292\n"
     ]
    }
   ],
   "source": [
    "print(\"vocab for Short Description length: \",len(vocab_SD))"
   ]
  },
  {
   "cell_type": "markdown",
   "metadata": {
    "id": "U6a_UUsMMP1R"
   },
   "source": [
    "**Processing Dataframe**"
   ]
  },
  {
   "cell_type": "code",
   "execution_count": 74,
   "metadata": {
    "id": "eLAcI2HlF1eM"
   },
   "outputs": [],
   "source": [
    "#short description sentence\n",
    "sdesc_sentence=[]\n",
    "for sentence in data['Short description']:\n",
    "  sd_s=process_sentences(sentence)\n",
    "  sdesc_sentence.append(sd_s)\n",
    "data['S_description_p']=sdesc_sentence"
   ]
  },
  {
   "cell_type": "code",
   "execution_count": 75,
   "metadata": {
    "id": "ZH2jV2Q7GUz0"
   },
   "outputs": [],
   "source": [
    "data1=data[['Short description','Assignment group','S_description_p']]"
   ]
  },
  {
   "cell_type": "code",
   "execution_count": 76,
   "metadata": {
    "colab": {
     "base_uri": "https://localhost:8080/",
     "height": 205
    },
    "id": "DYzXbv5SGs20",
    "outputId": "3542c1d4-eea2-47d9-add5-0c1c4008b5cc"
   },
   "outputs": [
    {
     "data": {
      "text/html": [
       "<div>\n",
       "<style scoped>\n",
       "    .dataframe tbody tr th:only-of-type {\n",
       "        vertical-align: middle;\n",
       "    }\n",
       "\n",
       "    .dataframe tbody tr th {\n",
       "        vertical-align: top;\n",
       "    }\n",
       "\n",
       "    .dataframe thead th {\n",
       "        text-align: right;\n",
       "    }\n",
       "</style>\n",
       "<table border=\"1\" class=\"dataframe\">\n",
       "  <thead>\n",
       "    <tr style=\"text-align: right;\">\n",
       "      <th></th>\n",
       "      <th>Short description</th>\n",
       "      <th>Assignment group</th>\n",
       "      <th>S_description_p</th>\n",
       "    </tr>\n",
       "  </thead>\n",
       "  <tbody>\n",
       "    <tr>\n",
       "      <th>0</th>\n",
       "      <td>login issue</td>\n",
       "      <td>GRP_0</td>\n",
       "      <td>[login, issu]</td>\n",
       "    </tr>\n",
       "    <tr>\n",
       "      <th>1</th>\n",
       "      <td>outlook</td>\n",
       "      <td>GRP_0</td>\n",
       "      <td>[outlook]</td>\n",
       "    </tr>\n",
       "    <tr>\n",
       "      <th>2</th>\n",
       "      <td>cant log in to vpn</td>\n",
       "      <td>GRP_0</td>\n",
       "      <td>[cant, log, vpn]</td>\n",
       "    </tr>\n",
       "    <tr>\n",
       "      <th>3</th>\n",
       "      <td>unable to access hr_tool page</td>\n",
       "      <td>GRP_0</td>\n",
       "      <td>[unabl, access, hr_tool, page]</td>\n",
       "    </tr>\n",
       "    <tr>\n",
       "      <th>4</th>\n",
       "      <td>skype error</td>\n",
       "      <td>GRP_0</td>\n",
       "      <td>[skype, error]</td>\n",
       "    </tr>\n",
       "  </tbody>\n",
       "</table>\n",
       "</div>"
      ],
      "text/plain": [
       "               Short description  ...                 S_description_p\n",
       "0                    login issue  ...                   [login, issu]\n",
       "1                        outlook  ...                       [outlook]\n",
       "2             cant log in to vpn  ...                [cant, log, vpn]\n",
       "3  unable to access hr_tool page  ...  [unabl, access, hr_tool, page]\n",
       "4                   skype error   ...                  [skype, error]\n",
       "\n",
       "[5 rows x 3 columns]"
      ]
     },
     "execution_count": 76,
     "metadata": {},
     "output_type": "execute_result"
    }
   ],
   "source": [
    "data1.head()"
   ]
  },
  {
   "cell_type": "markdown",
   "metadata": {
    "id": "A55MWrZ7MELL"
   },
   "source": [
    "**Tokenizing  and Pad Sequence**"
   ]
  },
  {
   "cell_type": "code",
   "execution_count": 77,
   "metadata": {
    "id": "xDzI3zkBGxMK"
   },
   "outputs": [],
   "source": [
    "#importing tokenizer and pad_sequence\n",
    "from keras.preprocessing.text import Tokenizer\n",
    "from keras.preprocessing.sequence import pad_sequences\n",
    "\n",
    "#S_description_p\tx\n",
    "tokenizer = Tokenizer(num_words=22640, split=' ') \n",
    "tokenizer.fit_on_texts(data1['S_description_p'].values)\n",
    "x= tokenizer.texts_to_sequences(data1['S_description_p'])\n",
    "x=pad_sequences(x)"
   ]
  },
  {
   "cell_type": "markdown",
   "metadata": {
    "id": "uY5fIqcNL7tt"
   },
   "source": [
    "**Encoding dependant varialbe**"
   ]
  },
  {
   "cell_type": "code",
   "execution_count": 78,
   "metadata": {
    "id": "G8dgwLEJHNhJ"
   },
   "outputs": [],
   "source": [
    "y_hat=[]\n",
    "for i in data1['Assignment group']:\n",
    "  i=i[4:]\n",
    "  y_hat.append(i)\n",
    "#encoding the dependent variable"
   ]
  },
  {
   "cell_type": "code",
   "execution_count": 79,
   "metadata": {
    "colab": {
     "base_uri": "https://localhost:8080/"
    },
    "id": "olYTDKh9HQBN",
    "outputId": "0a55b839-0ec0-4ff8-f1e6-61402a1c1e86"
   },
   "outputs": [
    {
     "name": "stderr",
     "output_type": "stream",
     "text": [
      "/usr/local/lib/python3.7/dist-packages/ipykernel_launcher.py:1: SettingWithCopyWarning: \n",
      "A value is trying to be set on a copy of a slice from a DataFrame.\n",
      "Try using .loc[row_indexer,col_indexer] = value instead\n",
      "\n",
      "See the caveats in the documentation: https://pandas.pydata.org/pandas-docs/stable/user_guide/indexing.html#returning-a-view-versus-a-copy\n",
      "  \"\"\"Entry point for launching an IPython kernel.\n"
     ]
    }
   ],
   "source": [
    "data1['Assignment group']=y_hat"
   ]
  },
  {
   "cell_type": "code",
   "execution_count": 80,
   "metadata": {
    "colab": {
     "base_uri": "https://localhost:8080/"
    },
    "id": "37ygZbFPHZYW",
    "outputId": "1e998a74-f2ea-47a7-d487-5254aad8cdbd"
   },
   "outputs": [
    {
     "name": "stderr",
     "output_type": "stream",
     "text": [
      "/usr/local/lib/python3.7/dist-packages/ipykernel_launcher.py:2: SettingWithCopyWarning: \n",
      "A value is trying to be set on a copy of a slice from a DataFrame.\n",
      "Try using .loc[row_indexer,col_indexer] = value instead\n",
      "\n",
      "See the caveats in the documentation: https://pandas.pydata.org/pandas-docs/stable/user_guide/indexing.html#returning-a-view-versus-a-copy\n",
      "  \n"
     ]
    }
   ],
   "source": [
    "# y -- dependant variable\n",
    "data1['Assignment group']=data1['Assignment group'].astype(float)\n",
    "y=data1['Assignment group'].tolist()"
   ]
  },
  {
   "cell_type": "markdown",
   "metadata": {
    "id": "RaLWU7XtL3ZT"
   },
   "source": [
    "**Labels**"
   ]
  },
  {
   "cell_type": "code",
   "execution_count": 116,
   "metadata": {
    "colab": {
     "base_uri": "https://localhost:8080/"
    },
    "id": "fERTwXSzHmBt",
    "outputId": "cd0dd324-8957-48e8-c16b-1819c68bebb0"
   },
   "outputs": [
    {
     "data": {
      "text/plain": [
       "array(['GRP_0', 'GRP_1', 'GRP_3', 'GRP_4', 'GRP_5', 'GRP_6', 'GRP_7',\n",
       "       'GRP_8', 'GRP_9', 'GRP_10', 'GRP_11', 'GRP_12', 'GRP_13', 'GRP_14',\n",
       "       'GRP_15', 'GRP_16', 'GRP_17', 'GRP_18', 'GRP_19', 'GRP_2',\n",
       "       'GRP_20', 'GRP_21', 'GRP_22', 'GRP_23', 'GRP_24', 'GRP_25',\n",
       "       'GRP_26', 'GRP_27', 'GRP_28', 'GRP_29', 'GRP_30', 'GRP_31',\n",
       "       'GRP_33', 'GRP_34', 'GRP_35', 'GRP_36', 'GRP_37', 'GRP_38',\n",
       "       'GRP_39', 'GRP_40', 'GRP_41', 'GRP_42', 'GRP_43', 'GRP_44',\n",
       "       'GRP_45', 'GRP_46', 'GRP_47', 'GRP_48', 'GRP_49', 'GRP_50',\n",
       "       'GRP_51', 'GRP_52', 'GRP_53', 'GRP_54', 'GRP_55', 'GRP_56',\n",
       "       'GRP_57', 'GRP_58', 'GRP_59', 'GRP_60', 'GRP_61', 'GRP_32',\n",
       "       'GRP_62', 'GRP_63', 'GRP_64', 'GRP_65', 'GRP_66', 'GRP_67',\n",
       "       'GRP_68', 'GRP_69', 'GRP_70', 'GRP_71', 'GRP_72', 'GRP_73'],\n",
       "      dtype=object)"
      ]
     },
     "execution_count": 116,
     "metadata": {},
     "output_type": "execute_result"
    }
   ],
   "source": [
    "#labels\n",
    "data['Assignment group'].unique()\n"
   ]
  },
  {
   "cell_type": "markdown",
   "metadata": {
    "id": "tDzWfGGQLvLX"
   },
   "source": [
    "**Train Test Split**"
   ]
  },
  {
   "cell_type": "code",
   "execution_count": 82,
   "metadata": {
    "colab": {
     "base_uri": "https://localhost:8080/"
    },
    "id": "w1rZzoZhIgqE",
    "outputId": "31a9f91c-dff4-47a9-d3c3-b9c4eba7c542"
   },
   "outputs": [
    {
     "name": "stdout",
     "output_type": "stream",
     "text": [
      "(7650, 20) 7650\n",
      "(850, 20) 850\n"
     ]
    }
   ],
   "source": [
    "#creating training and testing\n",
    "from sklearn.model_selection import train_test_split\n",
    "X_train, X_test, Y_train, Y_test = train_test_split(x,data1['Assignment group'], test_size = 0.10, random_state = 42)\n",
    "import tensorflow as tf\n",
    "X_train=tf.convert_to_tensor(X_train)\n",
    "X_test=tf.convert_to_tensor(X_test)\n",
    "y_train=tf.convert_to_tensor(Y_train)\n",
    "y_test=tf.convert_to_tensor(Y_test)\n",
    "print(X_train.shape,len(Y_train))\n",
    "print(X_test.shape,len(Y_test))\n",
    "\n"
   ]
  },
  {
   "cell_type": "markdown",
   "metadata": {
    "id": "f1_qGhEhLsTe"
   },
   "source": [
    "**Model**"
   ]
  },
  {
   "cell_type": "code",
   "execution_count": 83,
   "metadata": {
    "colab": {
     "base_uri": "https://localhost:8080/"
    },
    "id": "gQ6eY__8HqOD",
    "outputId": "05b111fb-56e1-41fa-87f9-17c4def0c7e3"
   },
   "outputs": [
    {
     "name": "stdout",
     "output_type": "stream",
     "text": [
      "WARNING:tensorflow:Layer lstm_3 will not use cuDNN kernels since it doesn't meet the criteria. It will use a generic GPU kernel as fallback when running on GPU.\n",
      "Model: \"sequential_3\"\n",
      "_________________________________________________________________\n",
      "Layer (type)                 Output Shape              Param #   \n",
      "=================================================================\n",
      "embedding_3 (Embedding)      (None, 20, 100)           829200    \n",
      "_________________________________________________________________\n",
      "spatial_dropout1d_3 (Spatial (None, 20, 100)           0         \n",
      "_________________________________________________________________\n",
      "lstm_3 (LSTM)                (None, 100)               80400     \n",
      "_________________________________________________________________\n",
      "dense_3 (Dense)              (None, 74)                7474      \n",
      "=================================================================\n",
      "Total params: 917,074\n",
      "Trainable params: 917,074\n",
      "Non-trainable params: 0\n",
      "_________________________________________________________________\n"
     ]
    }
   ],
   "source": [
    "#model\n",
    "from keras.models import Sequential\n",
    "from keras.layers import Dense, Embedding, LSTM,SpatialDropout1D\n",
    "model = Sequential()\n",
    "model.add(Embedding(input_dim=len(vocab_SD),output_dim=100,input_length=20))\n",
    "model.add(SpatialDropout1D(0.2))\n",
    "model.add(LSTM(100, dropout=0.2, recurrent_dropout=0.2))\n",
    "model.add(Dense(74, activation='softmax'))\n",
    "model.compile(loss='sparse_categorical_crossentropy', optimizer='adam', metrics=['accuracy'])\n",
    "\n",
    "model.summary()"
   ]
  },
  {
   "cell_type": "markdown",
   "metadata": {
    "id": "L16CXlWNLnYJ"
   },
   "source": [
    "**Model Fitting**"
   ]
  },
  {
   "cell_type": "code",
   "execution_count": 84,
   "metadata": {
    "colab": {
     "base_uri": "https://localhost:8080/"
    },
    "id": "2TpxDOS-KOG-",
    "outputId": "c606c6c6-4941-40d4-afd5-b4c65f34df16"
   },
   "outputs": [
    {
     "name": "stdout",
     "output_type": "stream",
     "text": [
      "Epoch 1/100\n",
      "60/60 [==============================] - 11s 143ms/step - loss: 2.8929 - accuracy: 0.4593 - val_loss: 2.6429 - val_accuracy: 0.4306\n",
      "Epoch 2/100\n",
      "60/60 [==============================] - 8s 133ms/step - loss: 2.3818 - accuracy: 0.4893 - val_loss: 2.3756 - val_accuracy: 0.4871\n",
      "Epoch 3/100\n",
      "60/60 [==============================] - 8s 137ms/step - loss: 2.0605 - accuracy: 0.5486 - val_loss: 2.1670 - val_accuracy: 0.5094\n",
      "Epoch 4/100\n",
      "60/60 [==============================] - 8s 134ms/step - loss: 1.8675 - accuracy: 0.5733 - val_loss: 2.0405 - val_accuracy: 0.5271\n",
      "Epoch 5/100\n",
      "60/60 [==============================] - 8s 139ms/step - loss: 1.7074 - accuracy: 0.5983 - val_loss: 1.9468 - val_accuracy: 0.5541\n",
      "Epoch 6/100\n",
      "60/60 [==============================] - 8s 136ms/step - loss: 1.5524 - accuracy: 0.6295 - val_loss: 1.8960 - val_accuracy: 0.5718\n",
      "Epoch 7/100\n",
      "60/60 [==============================] - 8s 136ms/step - loss: 1.4130 - accuracy: 0.6651 - val_loss: 1.8420 - val_accuracy: 0.5718\n",
      "Epoch 8/100\n",
      "60/60 [==============================] - 8s 136ms/step - loss: 1.2804 - accuracy: 0.7022 - val_loss: 1.8087 - val_accuracy: 0.5824\n",
      "Epoch 9/100\n",
      "60/60 [==============================] - 8s 135ms/step - loss: 1.1542 - accuracy: 0.7340 - val_loss: 1.7594 - val_accuracy: 0.5824\n",
      "Epoch 10/100\n",
      "60/60 [==============================] - 8s 136ms/step - loss: 1.0385 - accuracy: 0.7613 - val_loss: 1.7293 - val_accuracy: 0.5953\n",
      "Epoch 11/100\n",
      "60/60 [==============================] - 8s 136ms/step - loss: 0.9345 - accuracy: 0.7846 - val_loss: 1.7224 - val_accuracy: 0.5929\n",
      "Epoch 12/100\n",
      "60/60 [==============================] - 8s 135ms/step - loss: 0.8472 - accuracy: 0.8050 - val_loss: 1.7087 - val_accuracy: 0.6012\n",
      "Epoch 13/100\n",
      "60/60 [==============================] - 8s 139ms/step - loss: 0.7624 - accuracy: 0.8261 - val_loss: 1.6923 - val_accuracy: 0.6118\n",
      "Epoch 14/100\n",
      "60/60 [==============================] - 8s 137ms/step - loss: 0.6942 - accuracy: 0.8459 - val_loss: 1.6884 - val_accuracy: 0.6094\n",
      "Epoch 15/100\n",
      "60/60 [==============================] - 8s 135ms/step - loss: 0.6254 - accuracy: 0.8627 - val_loss: 1.7233 - val_accuracy: 0.6094\n",
      "Epoch 16/100\n",
      "60/60 [==============================] - 8s 133ms/step - loss: 0.5722 - accuracy: 0.8766 - val_loss: 1.7220 - val_accuracy: 0.6106\n",
      "Epoch 17/100\n",
      "60/60 [==============================] - 8s 137ms/step - loss: 0.5235 - accuracy: 0.8878 - val_loss: 1.7083 - val_accuracy: 0.6259\n"
     ]
    }
   ],
   "source": [
    "epochs = 100\n",
    "batch_size = 128\n",
    "\n",
    "history = model.fit(X_train, Y_train, epochs=epochs, batch_size=batch_size,validation_data=(X_test,Y_test),callbacks=[tf.keras.callbacks.EarlyStopping(monitor='val_loss', patience=3, min_delta=0.0001)])"
   ]
  },
  {
   "cell_type": "markdown",
   "metadata": {
    "id": "ExZaWiVoLkP4"
   },
   "source": [
    "**Loss**"
   ]
  },
  {
   "cell_type": "code",
   "execution_count": 85,
   "metadata": {
    "colab": {
     "base_uri": "https://localhost:8080/",
     "height": 281
    },
    "id": "BTUDI-qM7AZK",
    "outputId": "a955e92c-433a-4bc1-beb0-859c655bec98"
   },
   "outputs": [
    {
     "data": {
      "image/png": "[encoded data removed]",
      "text/plain": [
       "<Figure size 432x288 with 1 Axes>"
      ]
     },
     "metadata": {
      "needs_background": "light"
     },
     "output_type": "display_data"
    }
   ],
   "source": [
    "#loss\n",
    "import matplotlib.pyplot as plt\n",
    "plt.title('Loss')\n",
    "plt.plot(history.history['loss'], label='train')\n",
    "plt.plot(history.history['val_loss'], label='test')\n",
    "plt.legend()\n",
    "plt.show();"
   ]
  },
  {
   "cell_type": "markdown",
   "metadata": {
    "id": "tmqfAlDJLhyH"
   },
   "source": [
    "**Accuracy**"
   ]
  },
  {
   "cell_type": "code",
   "execution_count": 86,
   "metadata": {
    "colab": {
     "base_uri": "https://localhost:8080/",
     "height": 281
    },
    "id": "YI2Lu7GgAN7g",
    "outputId": "2cbd5fb0-a7d7-4d63-b809-9480e3fd3ba6"
   },
   "outputs": [
    {
     "data": {
      "image/png": "[encoded data removed]",
      "text/plain": [
       "<Figure size 432x288 with 1 Axes>"
      ]
     },
     "metadata": {
      "needs_background": "light"
     },
     "output_type": "display_data"
    }
   ],
   "source": [
    "#accuracy\n",
    "plt.title('Accuracy')\n",
    "plt.plot(history.history['accuracy'], label='train')\n",
    "plt.plot(history.history['val_accuracy'], label='test')\n",
    "plt.legend()\n",
    "plt.show();\n"
   ]
  },
  {
   "cell_type": "markdown",
   "metadata": {
    "id": "X_yZJbXzLceK"
   },
   "source": [
    "**Predict function**"
   ]
  },
  {
   "cell_type": "code",
   "execution_count": 111,
   "metadata": {
    "id": "4OpwCTD6IGNS"
   },
   "outputs": [],
   "source": [
    "labels=['GRP_0', 'GRP_1', 'GRP_3', 'GRP_4', 'GRP_5', 'GRP_6', 'GRP_7',\n",
    "       'GRP_8', 'GRP_9', 'GRP_10', 'GRP_11', 'GRP_12', 'GRP_13', 'GRP_14',\n",
    "       'GRP_15', 'GRP_16', 'GRP_17', 'GRP_18', 'GRP_19', 'GRP_2',\n",
    "       'GRP_20', 'GRP_21', 'GRP_22', 'GRP_23', 'GRP_24', 'GRP_25',\n",
    "       'GRP_26', 'GRP_27', 'GRP_28', 'GRP_29', 'GRP_30', 'GRP_31',\n",
    "       'GRP_33', 'GRP_34', 'GRP_35', 'GRP_36', 'GRP_37', 'GRP_38',\n",
    "       'GRP_39', 'GRP_40', 'GRP_41', 'GRP_42', 'GRP_43', 'GRP_44',\n",
    "       'GRP_45', 'GRP_46', 'GRP_47', 'GRP_48', 'GRP_49', 'GRP_50',\n",
    "       'GRP_51', 'GRP_52', 'GRP_53', 'GRP_54', 'GRP_55', 'GRP_56',\n",
    "       'GRP_57', 'GRP_58', 'GRP_59', 'GRP_60', 'GRP_61', 'GRP_32',\n",
    "       'GRP_62', 'GRP_63', 'GRP_64', 'GRP_65', 'GRP_66', 'GRP_67',\n",
    "       'GRP_68', 'GRP_69', 'GRP_70', 'GRP_71', 'GRP_72', 'GRP_73']\n",
    "\n",
    "def predict_function():\n",
    "  input1=input(\"Enter complient: \")\n",
    "  complient=[input1]\n",
    "  y_pred = tokenizer.texts_to_sequences(complient)\n",
    "  y_pred = pad_sequences(y_pred)\n",
    "  y_pred = model.predict(y_pred)\n",
    "  \n",
    "\n",
    "  print(\"predicted class:\",labels[np.argmax(y_pred)])\n"
   ]
  },
  {
   "cell_type": "code",
   "execution_count": 110,
   "metadata": {
    "id": "rPvkVzQXIcyw"
   },
   "outputs": [],
   "source": [
    "model.save('model_fc_lstm.h5')"
   ]
  },
  {
   "cell_type": "markdown",
   "metadata": {
    "id": "EEUpWOq5JGRA"
   },
   "source": [
    "**Testing**"
   ]
  },
  {
   "cell_type": "code",
   "execution_count": 112,
   "metadata": {
    "colab": {
     "base_uri": "https://localhost:8080/"
    },
    "id": "HxGkxyHdKelu",
    "outputId": "21be8ea5-5199-4788-ea2d-dba37f28325c"
   },
   "outputs": [
    {
     "name": "stdout",
     "output_type": "stream",
     "text": [
      "Enter complient: when undocking pc , screen will not come back\n",
      "predicted class: GRP_4\n"
     ]
    }
   ],
   "source": [
    "predict_function()"
   ]
  },
  {
   "cell_type": "code",
   "execution_count": 113,
   "metadata": {
    "colab": {
     "base_uri": "https://localhost:8080/"
    },
    "id": "wTqxM6K_LIo6",
    "outputId": "1f13fc55-e65a-4414-8130-b93e205e82d3"
   },
   "outputs": [
    {
     "name": "stdout",
     "output_type": "stream",
     "text": [
      "Enter complient: emails not coming in from zz mail\n",
      "predicted class: GRP_9\n"
     ]
    }
   ],
   "source": [
    "predict_function()"
   ]
  },
  {
   "cell_type": "code",
   "execution_count": 114,
   "metadata": {
    "colab": {
     "base_uri": "https://localhost:8080/"
    },
    "id": "IAKYcpdmLOpY",
    "outputId": "218aaa9e-508a-4de4-a7cb-b6e5c84d38fd"
   },
   "outputs": [
    {
     "name": "stdout",
     "output_type": "stream",
     "text": [
      "Enter complient: machine não está funcionando\n",
      "predicted class: GRP_62\n"
     ]
    }
   ],
   "source": [
    "predict_function()"
   ]
  },
  {
   "cell_type": "code",
   "execution_count": null,
   "metadata": {
    "id": "WToEqNnKJ7Ix"
   },
   "outputs": [],
   "source": []
  }
 ],
 "metadata": {
  "accelerator": "GPU",
  "colab": {
   "collapsed_sections": [],
   "name": "feedback classification.ipynb",
   "provenance": []
  },
  "kernelspec": {
   "display_name": "Python 3",
   "language": "python",
   "name": "python3"
  },
  "language_info": {
   "codemirror_mode": {
    "name": "ipython",
    "version": 3
   },
   "file_extension": ".py",
   "mimetype": "text/x-python",
   "name": "python",
   "nbconvert_exporter": "python",
   "pygments_lexer": "ipython3",
   "version": "3.8.5"
  }
 },
 "nbformat": 4,
 "nbformat_minor": 1
}
